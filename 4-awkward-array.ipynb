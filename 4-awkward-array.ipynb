{
 "cells": [
  {
   "cell_type": "markdown",
   "id": "ae14d3ce-0dc5-4a62-bed2-a0f75e72887c",
   "metadata": {},
   "source": [
    "# 3. Awkward Array"
   ]
  },
  {
   "cell_type": "markdown",
   "id": "55d53194-2a5f-4d99-93c5-8751e00adfed",
   "metadata": {},
   "source": [
    "<br><br><br><br><br>\n",
    "\n",
    "## What about an array of lists?"
   ]
  },
  {
   "cell_type": "code",
   "execution_count": null,
   "id": "c8e59475-25c6-41b1-a37c-3553517b3a98",
   "metadata": {},
   "outputs": [],
   "source": [
    "import awkward as ak\n",
    "import numpy as np\n",
    "import uproot"
   ]
  },
  {
   "cell_type": "code",
   "execution_count": null,
   "id": "b3a79fec-71a0-40fd-83c6-0c3369cf7597",
   "metadata": {},
   "outputs": [],
   "source": [
    "events = uproot.open(\"data/HZZ.root:events\")\n",
    "events.show()"
   ]
  },
  {
   "cell_type": "code",
   "execution_count": null,
   "id": "39208788-6a41-4afe-be49-9b42321a899f",
   "metadata": {},
   "outputs": [],
   "source": [
    "events[\"Muon_Px\"].array()"
   ]
  },
  {
   "cell_type": "code",
   "execution_count": null,
   "id": "98d28d9b-96bd-4316-b26c-42f12db10614",
   "metadata": {},
   "outputs": [],
   "source": [
    "events[\"Muon_Px\"].array(entry_stop=20).tolist()"
   ]
  },
  {
   "cell_type": "markdown",
   "id": "e163f018-cd77-47eb-be1a-e90e8252a796",
   "metadata": {},
   "source": [
    "This is what Awkward Array was made for. NumPy's equivalent is cumbersome and inefficient."
   ]
  },
  {
   "cell_type": "code",
   "execution_count": null,
   "id": "6a406416-f5b6-49aa-afb9-720446a8b990",
   "metadata": {},
   "outputs": [],
   "source": [
    "jagged_numpy = events[\"Muon_Px\"].array(entry_stop=20, library=\"np\")\n",
    "jagged_numpy"
   ]
  },
  {
   "cell_type": "markdown",
   "id": "0f6366b4-a61f-4b59-9574-ce2a203d6d39",
   "metadata": {},
   "source": [
    "What if I want the first item in each list as an array?"
   ]
  },
  {
   "cell_type": "code",
   "execution_count": null,
   "id": "d93944f5-cdc2-4280-82a3-9bc4865e2f25",
   "metadata": {},
   "outputs": [],
   "source": [
    "np.array([x[0] for x in jagged_numpy])"
   ]
  },
  {
   "cell_type": "markdown",
   "id": "f611c7ac-aa33-4446-aea9-4dc1224e488a",
   "metadata": {},
   "source": [
    "This violates the rule from [1-python-performance.ipynb](1-python-performance.ipynb): don't iterate in Python."
   ]
  },
  {
   "cell_type": "code",
   "execution_count": null,
   "id": "e8bb7a35-4a43-4956-ab78-613742726ae5",
   "metadata": {},
   "outputs": [],
   "source": [
    "jagged_awkward = events[\"Muon_Px\"].array(entry_stop=20, library=\"ak\")\n",
    "jagged_awkward"
   ]
  },
  {
   "cell_type": "code",
   "execution_count": null,
   "id": "73d7617c-5951-448b-8202-77ee6ae4354b",
   "metadata": {},
   "outputs": [],
   "source": [
    "jagged_awkward[:, 0]"
   ]
  },
  {
   "cell_type": "markdown",
   "id": "ede0d789-769a-4e69-8483-63b0ef6e4d47",
   "metadata": {},
   "source": [
    "<br><br><br><br><br>\n",
    "\n",
    "### Jaggedness in Pandas\n",
    "\n",
    "It can be done by putting the distinction between events in the DataFrame index."
   ]
  },
  {
   "cell_type": "code",
   "execution_count": null,
   "id": "b1dd3a93-74cd-4db6-a2ff-8b13ee0e34f2",
   "metadata": {},
   "outputs": [],
   "source": [
    "events.arrays(filter_name=\"Muon_*\", library=\"pd\")"
   ]
  },
  {
   "cell_type": "markdown",
   "id": "d5cef5ac-c0b7-40a4-b9ee-65cf5001ab27",
   "metadata": {},
   "source": [
    "But if you want multiple particles, they can't be in the same DataFrame.\n",
    "\n",
    "(A DataFrame has only one index; how would you relate jet subentry #1 with muon subentry #1?)"
   ]
  },
  {
   "cell_type": "code",
   "execution_count": null,
   "id": "ffa314ca-00f2-435e-bff4-3ee22772f578",
   "metadata": {},
   "outputs": [],
   "source": [
    "dataframes = events.arrays(filter_name=\"/(Muon_|Jet_).*/\", library=\"pd\")"
   ]
  },
  {
   "cell_type": "code",
   "execution_count": null,
   "id": "f7d986e5-bc1c-4bb8-a83c-61470589046f",
   "metadata": {},
   "outputs": [],
   "source": [
    "len(dataframes)"
   ]
  },
  {
   "cell_type": "code",
   "execution_count": null,
   "id": "1415debd-d11d-4eec-93c0-9d8777e61a40",
   "metadata": {},
   "outputs": [],
   "source": [
    "dataframes[0]"
   ]
  },
  {
   "cell_type": "code",
   "execution_count": null,
   "id": "40094424-c024-40ec-9995-24196c802438",
   "metadata": {},
   "outputs": [],
   "source": [
    "dataframes[1]"
   ]
  },
  {
   "cell_type": "markdown",
   "id": "91bed99b-4a2d-4234-999d-a7575bb9aeb5",
   "metadata": {},
   "source": [
    "Again, that's why we have Awkward Array."
   ]
  },
  {
   "cell_type": "code",
   "execution_count": null,
   "id": "cfb10799-a890-4175-b261-6d4bf5491d8d",
   "metadata": {},
   "outputs": [],
   "source": [
    "array = events.arrays(filter_name=\"/(Muon_|Jet_).*/\", library=\"ak\", how=\"zip\")\n",
    "array"
   ]
  },
  {
   "cell_type": "code",
   "execution_count": null,
   "id": "313d41a0-af04-4757-952c-8edd0760cd84",
   "metadata": {},
   "outputs": [],
   "source": [
    "array.Jet"
   ]
  },
  {
   "cell_type": "code",
   "execution_count": null,
   "id": "231efbed-a89f-4c65-90d8-6079290667e3",
   "metadata": {},
   "outputs": [],
   "source": [
    "array.Jet.Px"
   ]
  },
  {
   "cell_type": "code",
   "execution_count": null,
   "id": "93cae795-5082-41eb-98ec-9e99a899f50c",
   "metadata": {},
   "outputs": [],
   "source": [
    "array.Muon"
   ]
  },
  {
   "cell_type": "code",
   "execution_count": null,
   "id": "b9d3f14f-1587-48f3-b021-1f686ec43267",
   "metadata": {},
   "outputs": [],
   "source": [
    "array.Muon.Px"
   ]
  },
  {
   "cell_type": "code",
   "execution_count": null,
   "id": "d6e828ce-f5e8-4ed0-b456-ff65cc638808",
   "metadata": {},
   "outputs": [],
   "source": [
    "ak.num(array.Jet), ak.num(array.Muon)"
   ]
  },
  {
   "cell_type": "markdown",
   "id": "e99681d5-db86-459a-8620-6c303bef1c20",
   "metadata": {},
   "source": [
    "<br><br><br><br><br>\n",
    "\n",
    "## Awkward Array is a general-purpose library: NumPy-like idioms on JSON-like data"
   ]
  },
  {
   "cell_type": "markdown",
   "id": "9eaca985-580b-4564-a9be-a05cf434fb89",
   "metadata": {},
   "source": [
    "<img src=\"img/pivarski-one-slide-summary.svg\" style=\"width: 70%\">"
   ]
  },
  {
   "cell_type": "markdown",
   "id": "4709c99c-370c-4ab9-adfe-6b1b434793e6",
   "metadata": {},
   "source": [
    "<br><br><br><br><br>\n",
    "\n",
    "## Main idea: slicing through structure is computationally inexpensive\n",
    "\n",
    "Slicing by field name doesn't modify any large buffers and [ak.zip](https://awkward-array.readthedocs.io/en/latest/_auto/ak.zip.html) only scans them to ensure they're compatible (not even that if `depth_limit=1`)."
   ]
  },
  {
   "cell_type": "code",
   "execution_count": null,
   "id": "c272052a-1a9e-4fe3-951b-db38a6cceb40",
   "metadata": {},
   "outputs": [],
   "source": [
    "array = events.arrays()\n",
    "array"
   ]
  },
  {
   "cell_type": "markdown",
   "id": "d93d9d83-a5f6-49d2-a1d6-9e985b94465c",
   "metadata": {},
   "source": [
    "Think of this as zero-cost:"
   ]
  },
  {
   "cell_type": "code",
   "execution_count": null,
   "id": "8c6f8d39-75f3-4d6e-867f-c60bd16d83ba",
   "metadata": {},
   "outputs": [],
   "source": [
    "array.Muon_Px, array.Muon_Py, array.Muon_Pz"
   ]
  },
  {
   "cell_type": "markdown",
   "id": "e2ed505d-6eca-4807-b43b-880ed4c4fd0c",
   "metadata": {},
   "source": [
    "Think of this as zero-cost:"
   ]
  },
  {
   "cell_type": "code",
   "execution_count": null,
   "id": "684275da-c070-4523-ab77-1f4e1727cf0e",
   "metadata": {},
   "outputs": [],
   "source": [
    "ak.zip({\"px\": array.Muon_Px, \"py\": array.Muon_Py, \"pz\": array.Muon_Pz})"
   ]
  },
  {
   "cell_type": "markdown",
   "id": "f534ea92-4d94-4265-9166-c3789548cfb1",
   "metadata": {},
   "source": [
    "(The above is a manual version of `how=\"zip\"`.)"
   ]
  },
  {
   "cell_type": "markdown",
   "id": "74f6e268-26ff-45ff-af49-24e1fc4be70c",
   "metadata": {},
   "source": [
    "<br><br><br>\n",
    "\n",
    "NumPy ufuncs work on these arrays (if they're \"[broadcastable](https://awkward-array.readthedocs.io/en/latest/_auto/ak.broadcast_arrays.html)\")."
   ]
  },
  {
   "cell_type": "code",
   "execution_count": null,
   "id": "c107261e-e687-4844-aad3-65ce162531c3",
   "metadata": {},
   "outputs": [],
   "source": [
    "np.sqrt(array.Muon_Px**2 + array.Muon_Py**2)"
   ]
  },
  {
   "cell_type": "markdown",
   "id": "9f96c45a-dac4-4bf8-bc0d-e8e539129ee4",
   "metadata": {},
   "source": [
    "<br><br><br>\n",
    "\n",
    "And there are specialized operations that only make sense in a variable-length context.\n",
    "\n",
    "<table style=\"margin-left: 0px\">\n",
    "    <tr style=\"background: white\"><td style=\"font-size: 1.75em; font-weight: bold; text-align: center\"><a href=\"https://awkward-array.readthedocs.io/en/latest/_auto/ak.cartesian.html\">ak.cartesian</a></td><td style=\"font-size: 1.75em; font-weight: bold; text-align: center\"><a href=\"https://awkward-array.readthedocs.io/en/latest/_auto/ak.combinations.html\">ak.combinations</a></td></tr>\n",
    "    <tr style=\"background: white\"><td><img src=\"img/cartoon-cartesian.png\"></td><td><img src=\"img/cartoon-combinations.png\"></td></tr>\n",
    "</table>"
   ]
  },
  {
   "cell_type": "code",
   "execution_count": null,
   "id": "020c5f92-13d5-48b6-a29d-8ae19827becf",
   "metadata": {},
   "outputs": [],
   "source": [
    "ak.cartesian((array.Muon_Px, array.Jet_Px))"
   ]
  },
  {
   "cell_type": "code",
   "execution_count": null,
   "id": "f7976a9d-4e14-4f71-821b-b07659701bec",
   "metadata": {},
   "outputs": [],
   "source": [
    "ak.combinations(array.Muon_Px, 2)"
   ]
  },
  {
   "cell_type": "markdown",
   "id": "b73c7c6d-41cb-4297-bc32-19c5642fbf42",
   "metadata": {},
   "source": [
    "<br><br><br><br><br>\n",
    "\n",
    "## Arrays can have custom [behavior](https://awkward-array.readthedocs.io/en/latest/ak.behavior.html)\n",
    "\n",
    "The following come from the new [Vector](https://github.com/scikit-hep/vector#readme) library."
   ]
  },
  {
   "cell_type": "code",
   "execution_count": null,
   "id": "a09f2884-dc3b-4f15-a4e0-3afbcd77a984",
   "metadata": {},
   "outputs": [],
   "source": [
    "import vector\n",
    "vector.register_awkward()"
   ]
  },
  {
   "cell_type": "code",
   "execution_count": null,
   "id": "0f497377-398d-4c11-ad08-8483c61f2239",
   "metadata": {},
   "outputs": [],
   "source": [
    "muons = ak.zip({\"px\": array.Muon_Px, \"py\": array.Muon_Py, \"pz\": array.Muon_Pz, \"E\": array.Muon_E}, with_name=\"Momentum4D\")\n",
    "muons"
   ]
  },
  {
   "cell_type": "markdown",
   "id": "3099e3d5-2dc6-41ec-8cb9-372923904c45",
   "metadata": {},
   "source": [
    "This is an array of lists of vectors, and methods like `pt`, `eta`, `phi` apply through the whole array."
   ]
  },
  {
   "cell_type": "code",
   "execution_count": null,
   "id": "877cac01-693b-435d-9e6f-f67325cbe9d0",
   "metadata": {},
   "outputs": [],
   "source": [
    "muons.pt"
   ]
  },
  {
   "cell_type": "code",
   "execution_count": null,
   "id": "67d0cb46-a576-4de4-8968-f7734a049fad",
   "metadata": {},
   "outputs": [],
   "source": [
    "muons.eta"
   ]
  },
  {
   "cell_type": "code",
   "execution_count": null,
   "id": "830140bb-fe03-4c78-8178-f15a8748dd60",
   "metadata": {},
   "outputs": [],
   "source": [
    "muons.phi"
   ]
  },
  {
   "cell_type": "markdown",
   "id": "84c01a24-8888-4797-a00d-491c983ad4b4",
   "metadata": {},
   "source": [
    "<br><br><br>\n",
    "\n",
    "Let's try an example: ΔR(muons, jets)"
   ]
  },
  {
   "cell_type": "code",
   "execution_count": null,
   "id": "0646a94b-7e04-48e5-b1b9-cf347e0b16d7",
   "metadata": {},
   "outputs": [],
   "source": [
    "jets = ak.zip({\"px\": array.Jet_Px, \"py\": array.Jet_Py, \"pz\": array.Jet_Pz, \"E\": array.Jet_E}, with_name=\"Momentum4D\")\n",
    "jets"
   ]
  },
  {
   "cell_type": "code",
   "execution_count": null,
   "id": "38732ecc-4850-4e11-956e-7413a0845cbb",
   "metadata": {},
   "outputs": [],
   "source": [
    "ak.num(muons), ak.num(jets)"
   ]
  },
  {
   "cell_type": "code",
   "execution_count": null,
   "id": "1933b22d-42fe-45dd-a0cd-cfbf949053bc",
   "metadata": {},
   "outputs": [],
   "source": [
    "ms, js = ak.unzip(ak.cartesian((muons, jets)))\n",
    "ms, js"
   ]
  },
  {
   "cell_type": "code",
   "execution_count": null,
   "id": "ac76799e-b86d-4872-a09f-aeb9d3ed6fb7",
   "metadata": {},
   "outputs": [],
   "source": [
    "ak.num(ms), ak.num(js)"
   ]
  },
  {
   "cell_type": "code",
   "execution_count": null,
   "id": "0206ebe6-b580-4872-9b16-58d606e92b09",
   "metadata": {},
   "outputs": [],
   "source": [
    "ms.deltaR(js)"
   ]
  },
  {
   "cell_type": "markdown",
   "id": "12b2c1e7-5cfd-44b8-8870-d37878422a28",
   "metadata": {},
   "source": [
    "<br><br><br>\n",
    "\n",
    "And another: muon pairs (all combinations, not just the first two per event)."
   ]
  },
  {
   "cell_type": "code",
   "execution_count": null,
   "id": "b366c0b7-a4e3-4ebc-b4e2-a6150019ca16",
   "metadata": {},
   "outputs": [],
   "source": [
    "ak.num(muons)"
   ]
  },
  {
   "cell_type": "code",
   "execution_count": null,
   "id": "207bf9a9-84c0-428a-815e-6de6fb8694a3",
   "metadata": {},
   "outputs": [],
   "source": [
    "m1, m2 = ak.unzip(ak.combinations(muons, 2))\n",
    "m1, m2"
   ]
  },
  {
   "cell_type": "code",
   "execution_count": null,
   "id": "a3b698ef-989d-4185-8de0-62a70087072c",
   "metadata": {},
   "outputs": [],
   "source": [
    "ak.num(m1), ak.num(m2)"
   ]
  },
  {
   "cell_type": "code",
   "execution_count": null,
   "id": "6d2444a8-a7ef-4731-b3cd-923c0ed0c7ea",
   "metadata": {},
   "outputs": [],
   "source": [
    "m1 + m2"
   ]
  },
  {
   "cell_type": "code",
   "execution_count": null,
   "id": "9bc067cb-a97e-4333-92b4-48d705fe5107",
   "metadata": {},
   "outputs": [],
   "source": [
    "(m1 + m2).mass"
   ]
  },
  {
   "cell_type": "code",
   "execution_count": null,
   "id": "2722fa73-649d-43f2-8312-2703776a9433",
   "metadata": {},
   "outputs": [],
   "source": [
    "import hist\n",
    "\n",
    "hist.Hist.new.Reg(120, 0, 120, name=\"mass\").Double().fill(\n",
    "    ak.flatten((m1 + m2).mass)\n",
    ").plot()"
   ]
  },
  {
   "cell_type": "markdown",
   "id": "4db9bbdf-188f-4cba-b355-07c1a617b637",
   "metadata": {},
   "source": [
    "<br><br><br>\n",
    "\n",
    "### It doesn't matter which coordinates were used to construct it"
   ]
  },
  {
   "cell_type": "code",
   "execution_count": null,
   "id": "118fd5b1-894f-486d-9e23-548ba1c84c63",
   "metadata": {},
   "outputs": [],
   "source": [
    "array2 = uproot.open(\n",
    "    \"root://eospublic.cern.ch//eos/opendata/cms/derived-data/AOD2NanoAODOutreachTool/Run2012BC_DoubleMuParked_Muons.root:Events\"\n",
    ").arrays([\"Muon_pt\", \"Muon_eta\", \"Muon_phi\", \"Muon_charge\"], entry_stop=100000)"
   ]
  },
  {
   "cell_type": "code",
   "execution_count": null,
   "id": "d266244f-461d-4590-9214-1d4380a8866d",
   "metadata": {},
   "outputs": [],
   "source": [
    "import particle\n",
    "\n",
    "muons2 = ak.zip({\"pt\": array2.Muon_pt, \"eta\": array2.Muon_eta, \"phi\": array2.Muon_phi, \"q\": array2.Muon_charge}, with_name=\"Momentum4D\")\n",
    "muons2[\"mass\"] = particle.Particle.findall(pdg_name=\"mu\", particle=True)[0].mass / 1000.0\n",
    "muons2"
   ]
  },
  {
   "cell_type": "markdown",
   "id": "d0391ff6-7281-46ff-801e-0b8928347fc3",
   "metadata": {},
   "source": [
    "As long as you use properties (dots, not strings in brackets), you don't need to care what coordinates it's based on."
   ]
  },
  {
   "cell_type": "code",
   "execution_count": null,
   "id": "7eb3b75b-f5a3-4658-a9cc-c0b29d1b0e4b",
   "metadata": {},
   "outputs": [],
   "source": [
    "muons2.px"
   ]
  },
  {
   "cell_type": "code",
   "execution_count": null,
   "id": "6566a49c-4ce4-481a-9931-b8c2e95e80a6",
   "metadata": {},
   "outputs": [],
   "source": [
    "muons2.py"
   ]
  },
  {
   "cell_type": "code",
   "execution_count": null,
   "id": "8d13dc67-35b1-4fad-8e98-f0d9733f577d",
   "metadata": {},
   "outputs": [],
   "source": [
    "muons2.pz"
   ]
  },
  {
   "cell_type": "code",
   "execution_count": null,
   "id": "7eef9466-6d63-4e9e-b1c9-c0ea896a6118",
   "metadata": {},
   "outputs": [],
   "source": [
    "muons2.E"
   ]
  },
  {
   "cell_type": "code",
   "execution_count": null,
   "id": "0da4eb75-6b02-4cca-b770-0944f40a5da8",
   "metadata": {},
   "outputs": [],
   "source": [
    "m1, m2 = ak.unzip(ak.combinations(muons2, 2))\n",
    "hist.Hist.new.Log(200, 0.1, 120, name=\"mass\").Double().fill(\n",
    "    ak.flatten((m1 + m2).mass)\n",
    ").plot()"
   ]
  },
  {
   "cell_type": "markdown",
   "id": "a6a9d1e2-e208-40d2-9878-edbc4a017b5e",
   "metadata": {},
   "source": [
    "<br><br><br>\n",
    "\n",
    "## Awkward Arrays and Vector in Numba\n",
    "\n",
    "Remember Numba, the JIT-compiler from [1-python-performance.ipynb](1-python-performance.ipynb)? Awkward Array and Vector have been implemented in Numba's compiler."
   ]
  },
  {
   "cell_type": "code",
   "execution_count": null,
   "id": "27f91719-7143-47d1-bc93-ece0e14d1515",
   "metadata": {},
   "outputs": [],
   "source": [
    "import numba as nb\n",
    "\n",
    "@nb.njit\n",
    "def first_big_dimuon(events):\n",
    "    for event in events:\n",
    "        for i in range(len(event)):\n",
    "            mu1 = event[i]\n",
    "            for j in range(i + 1, len(event)):\n",
    "                mu2 = event[j]\n",
    "                dimuon = mu1 + mu2\n",
    "                if dimuon.mass > 10:\n",
    "                    return dimuon"
   ]
  },
  {
   "cell_type": "code",
   "execution_count": null,
   "id": "aa36234f-f1f8-432d-80e4-697072a8be85",
   "metadata": {},
   "outputs": [],
   "source": [
    "first_big_dimuon(muons2)"
   ]
  }
 ],
 "metadata": {
  "kernelspec": {
   "display_name": "Python 3",
   "language": "python",
   "name": "python3"
  },
  "language_info": {
   "codemirror_mode": {
    "name": "ipython",
    "version": 3
   },
   "file_extension": ".py",
   "mimetype": "text/x-python",
   "name": "python",
   "nbconvert_exporter": "python",
   "pygments_lexer": "ipython3",
   "version": "3.8.10"
  }
 },
 "nbformat": 4,
 "nbformat_minor": 5
}
